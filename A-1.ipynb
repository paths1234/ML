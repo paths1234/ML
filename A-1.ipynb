{
 "cells": [
  {
   "cell_type": "markdown",
   "metadata": {},
   "source": [
    " # Assignment 1 COMPSCI-753\n",
    " by Bimo Aji Dimas Danindro (bdan569)\n",
    " \n",
    "## [Task 1](#Task-1)\n",
    "Implement the basic version of the Power Iteration algorithm for PageRank\n",
    "\n",
    "   - [Implement the power iteration algorithm in matrix form to calculate the rank vector r, without teleport](#Implement-the-power-iteration-algorithm)\n",
    "\n",
    "   - [Run your code on the provided Google web data](#Run-your-code-on-the-provided-Google-web-data)\n",
    "     \n",
    "      Report:\n",
    "      (1) The running time of your power iteration algorithm;\n",
    "      (2) The number of iterations needed to stop; \n",
    "      (3) The IDs and scores of the top-10 ranked nodes\n",
    "\n",
    "## [Task 2](#Task-2)\n",
    "\n",
    "  -[Calculate and report the number of dead-end](#Calculate-and-report-the-number-of-dead-end)\n",
    "\n",
    "  -[Calculate and plot Leaked Scores](#Calculate-and-plot-Leaked-Scores)\n",
    "  \n",
    "  \n",
    "## [Task 3](#Task-3)\n",
    "Implementation of Power Iteration with Teleport\n",
    "\n",
    "  -[Extend PageRank with Teleport](#Extend-PageRank-with-Teleport)\n",
    "\n",
    "  -[Run Power Iteration with Teleport](#Run-Power-Iteration-with-Teleport)\n",
    "\n",
    "  -[Vary the teleport probability ](#Vary-the-teleport-probability)"
   ]
  },
  {
   "cell_type": "code",
   "execution_count": 31,
   "metadata": {},
   "outputs": [],
   "source": [
    "# Importing Library\n",
    "import time\n",
    "import numpy as np\n",
    "import matplotlib.pyplot as plot\n",
    "from scipy.sparse import csr_matrix\n",
    "from scipy.sparse.linalg import norm\n"
   ]
  },
  {
   "cell_type": "markdown",
   "metadata": {},
   "source": [
    "## Task 1\n"
   ]
  },
  {
   "cell_type": "markdown",
   "metadata": {},
   "source": [
    "### Implement the power iteration algorithm"
   ]
  },
  {
   "cell_type": "code",
   "execution_count": 32,
   "metadata": {},
   "outputs": [
    {
     "name": "stdout",
     "output_type": "stream",
     "text": [
      "Matrix M\n",
      "  (0, 11342)\t0.3333333333333333\n",
      "  (0, 824020)\t0.3333333333333333\n",
      "  (0, 867923)\t0.3333333333333333\n",
      "  (1, 53051)\t0.1111111111111111\n",
      "  (1, 203402)\t0.1111111111111111\n",
      "  (1, 223236)\t0.1111111111111111\n",
      "  (1, 276233)\t0.1111111111111111\n",
      "  (1, 552600)\t0.1111111111111111\n",
      "  (1, 569212)\t0.1111111111111111\n",
      "  (1, 635575)\t0.1111111111111111\n",
      "  (1, 748615)\t0.1111111111111111\n",
      "  (1, 862566)\t0.1111111111111111\n",
      "  (2, 30957)\t0.09090909090909091\n",
      "  (2, 357310)\t0.09090909090909091\n",
      "  (2, 423174)\t0.09090909090909091\n",
      "  (2, 430119)\t0.09090909090909091\n",
      "  (2, 462435)\t0.09090909090909091\n",
      "  (2, 472889)\t0.09090909090909091\n",
      "  (2, 565424)\t0.09090909090909091\n",
      "  (2, 581609)\t0.09090909090909091\n",
      "  (2, 597621)\t0.09090909090909091\n",
      "  (2, 644135)\t0.09090909090909091\n",
      "  (2, 858904)\t0.09090909090909091\n",
      "  (4, 44695)\t0.14285714285714285\n",
      "  (4, 62391)\t0.14285714285714285\n",
      "  :\t:\n",
      "  (875711, 143415)\t0.1\n",
      "  (875711, 156301)\t0.1\n",
      "  (875711, 307054)\t0.1\n",
      "  (875711, 364056)\t0.1\n",
      "  (875711, 614711)\t0.1\n",
      "  (875711, 695795)\t0.1\n",
      "  (875711, 733815)\t0.1\n",
      "  (875711, 774596)\t0.1\n",
      "  (875711, 841131)\t0.1\n",
      "  (875712, 41909)\t0.0625\n",
      "  (875712, 73696)\t0.0625\n",
      "  (875712, 143199)\t0.0625\n",
      "  (875712, 159850)\t0.0625\n",
      "  (875712, 312075)\t0.0625\n",
      "  (875712, 392666)\t0.0625\n",
      "  (875712, 511430)\t0.0625\n",
      "  (875712, 601447)\t0.0625\n",
      "  (875712, 621447)\t0.0625\n",
      "  (875712, 636015)\t0.0625\n",
      "  (875712, 651588)\t0.0625\n",
      "  (875712, 653655)\t0.0625\n",
      "  (875712, 739253)\t0.0625\n",
      "  (875712, 794682)\t0.0625\n",
      "  (875712, 832802)\t0.0625\n",
      "  (875712, 840833)\t0.0625\n",
      "Vector r\n",
      "[7.64294889e-07 6.27915346e-07 1.07603859e-06 ... 0.00000000e+00\n",
      " 8.55659436e-07 1.06945788e-06]\n"
     ]
    }
   ],
   "source": [
    "# Function to read file and convert input into sparse matrix\n",
    "def read_file(file_path, N):\n",
    "    rows = []\n",
    "    cols = []\n",
    "    data = []\n",
    "    M = []\n",
    "\n",
    "    # Dictionary to keep track of the number of connections per node\n",
    "    con_count = {i: 0 for i in range(N)}\n",
    "\n",
    "    # First phrase: Read file and count connections\n",
    "    with open(file_path, 'r') as file:\n",
    "        for line in file:\n",
    "            parts = line.strip().split()\n",
    "            if len(parts) == 2:\n",
    "                i = int(parts[0])\n",
    "                j = int(parts[1])\n",
    "                if i < N and j < N:\n",
    "                    con_count[i] += 1\n",
    "\n",
    "    # Second phrase: Read file again and populate the sparse matrix\n",
    "    with open(file_path, 'r') as file:\n",
    "        for line in file:\n",
    "            parts = line.strip().split()\n",
    "            if len(parts) >= 2:\n",
    "                i = int(parts[0])\n",
    "                j = int(parts[1])\n",
    "                if i < N and j < N:\n",
    "                     # Use normalized weight (1 / number of connections to j)\n",
    "                    weight = 1 / con_count[i]\n",
    "                    rows.append(i)\n",
    "                    cols.append(j)\n",
    "                    data.append(weight)\n",
    "\n",
    "        # Create a sparse matrix from the collected data\n",
    "        M = csr_matrix((data, (rows, cols)), shape=(N, N))\n",
    "    return M\n",
    "\n",
    "def power_iteration(M, tol):\n",
    "    N = M.shape[1]\n",
    "    r = np.ones(N) / N\n",
    "    leak_sc = []\n",
    "    start = time.time()\n",
    "    iteration = 0\n",
    "    # While loop for power iteration till meets stopping criteria\n",
    "    while True:\n",
    "        r_next = M @ r\n",
    "        iteration += 1\n",
    "\n",
    "        # Calculate leaked score for the current iteration\n",
    "        current_sum = np.sum(r_next)\n",
    "        if current_sum != 1:\n",
    "            leaked_score = 1 - current_sum\n",
    "            leak_sc.append(leaked_score)\n",
    "                \n",
    "        # Using L1 norm of the difference as the stopping criteria\n",
    "        if np.linalg.norm(r_next - r, 1) < tol:\n",
    "            break\n",
    "        r = r_next    \n",
    "    \n",
    "    end = time.time()\n",
    "    elap = end - start\n",
    "    return r, iteration, elap, leak_sc\n",
    "\n",
    "file_path = '/Users/mac/Documents/compsci/753/web-Google-final.txt'\n",
    "N = 875713\n",
    "M = read_file(file_path, N)\n",
    "print(f\"Matrix M\\n{M}\")\n",
    "r, iteration, elap, leak_sc = power_iteration(M, tol = 0.02)\n",
    "print(f\"Vector r\\n{r}\")"
   ]
  },
  {
   "cell_type": "markdown",
   "metadata": {},
   "source": [
    "### Run your code on the provided Google web data\n",
    "1. Report Running Time of Power Iteration\n",
    "2. Report Number of Iteration\n",
    "3. Report Top-10 Nodes"
   ]
  },
  {
   "cell_type": "code",
   "execution_count": 33,
   "metadata": {},
   "outputs": [
    {
     "name": "stdout",
     "output_type": "stream",
     "text": [
      "Time required: 111.64 milliseconds\n",
      "Iterations required: 10 times\n",
      "Top-10 ranked nodes and their scores:\n",
      "Node ID: 66058, Score: 0.000001\n",
      "Node ID: 593443, Score: 0.000001\n",
      "Node ID: 368738, Score: 0.000001\n",
      "Node ID: 442089, Score: 0.000001\n",
      "Node ID: 64144, Score: 0.000001\n",
      "Node ID: 773592, Score: 0.000001\n",
      "Node ID: 423213, Score: 0.000001\n",
      "Node ID: 570838, Score: 0.000001\n",
      "Node ID: 513196, Score: 0.000001\n",
      "Node ID: 247814, Score: 0.000001\n"
     ]
    }
   ],
   "source": [
    "# Find the top-10 ranked nodes\n",
    "top_nodes = np.argsort(-r)[:10]\n",
    "sc = r[top_nodes]\n",
    "\n",
    "elap_ms = elap * 1000\n",
    "print(f\"Time required: {elap_ms:.2f} milliseconds\")\n",
    "print(f\"Iterations required: {iteration} times\")\n",
    "\n",
    "print(\"Top-10 ranked nodes and their scores:\")\n",
    "for i, node in enumerate(top_nodes):\n",
    "    print(f\"Node ID: {node}, Score: {sc[i]:.6f}\")"
   ]
  },
  {
   "cell_type": "markdown",
   "metadata": {},
   "source": [
    "Without teleport, running time for the power iteration need to converge (with stopping criterian in 0.02) after 10 times iteration with running time 111.64 ms."
   ]
  },
  {
   "cell_type": "markdown",
   "metadata": {},
   "source": [
    "## Task 2\n",
    "Understanding dead-ends"
   ]
  },
  {
   "cell_type": "markdown",
   "metadata": {},
   "source": [
    "### Calculate and report the number of dead-end"
   ]
  },
  {
   "cell_type": "code",
   "execution_count": 34,
   "metadata": {},
   "outputs": [
    {
     "name": "stdout",
     "output_type": "stream",
     "text": [
      "Number of dead ends: 187880\n"
     ]
    }
   ],
   "source": [
    "# Calculate and report the number of dead-end\n",
    "num_nodes = M.shape[0]\n",
    "dead_ends = 0\n",
    "for i in range(num_nodes):\n",
    "    if M.getrow(i).nnz == 0:\n",
    "        dead_ends += 1\n",
    "print(f\"Number of dead ends: {dead_ends}\")"
   ]
  },
  {
   "cell_type": "markdown",
   "metadata": {},
   "source": [
    "### Calculate and plot Leaked Scores"
   ]
  },
  {
   "cell_type": "code",
   "execution_count": 35,
   "metadata": {},
   "outputs": [
    {
     "name": "stdout",
     "output_type": "stream",
     "text": [
      "Leaked scores for each iteration:\n",
      "Iteration 1: 0.214545\n",
      "Iteration 2: 0.291944\n",
      "Iteration 3: 0.335633\n",
      "Iteration 4: 0.368990\n",
      "Iteration 5: 0.398721\n",
      "Iteration 6: 0.424912\n",
      "Iteration 7: 0.449075\n",
      "Iteration 8: 0.470902\n",
      "Iteration 9: 0.491253\n",
      "Iteration 10: 0.509920\n"
     ]
    },
    {
     "data": {
      "image/png": "[encoded data removed]",
      "text/plain": [
       "<Figure size 640x480 with 1 Axes>"
      ]
     },
     "metadata": {},
     "output_type": "display_data"
    }
   ],
   "source": [
    "# Get Leaked scores from 1B\n",
    "# Print leak scores\n",
    "print(\"Leaked scores for each iteration:\")\n",
    "for i, score in enumerate(leak_sc):\n",
    "        print(f\"Iteration {i + 1}: {score:.6f}\")\n",
    "iter = list(range(1, len(leak_sc) + 1))\n",
    "\n",
    "# Plot Leak Score for each iterations\n",
    "plot.plot(iter, leak_sc, marker='o', linestyle='--', color='r')\n",
    "plot.xlabel('Iteration')\n",
    "plot.ylabel('Leaked Scores')\n",
    "plot.title('Plot of Leaked Scores of Each Iteration')\n",
    "plot.show()"
   ]
  },
  {
   "cell_type": "markdown",
   "metadata": {},
   "source": [
    "#### Analyze dead-ends\n",
    "\n",
    "Plot shows that leaked scores is increasing for each iteration. In the 10th iteration or the last iteration when the r reaching stopping criteria, we already loss more than 50 percent of total score due to dead-ends web in our data.\n",
    "\n",
    "Output of 2(A) indicates that google web data had total 187880 dead-ends. Dead-ends do not contribute to the rank distribution, therefore when the rank does not flow through the network as it should, the total rank might be *falsely* increased. This can result in an escalating leaked score, where the accumulation effect causes leaked score to increase with each repetition. Without the ability to teleport, there is no way to guarantee that the rank is reset or distributed evenly among pages. Because there is no normalisation, the rank might accumulate in dead ends, which raises the score over iterations.\n"
   ]
  },
  {
   "cell_type": "markdown",
   "metadata": {},
   "source": [
    "### Task 3\n",
    "Implementation of Power Iteration with Teleport"
   ]
  },
  {
   "cell_type": "markdown",
   "metadata": {},
   "source": [
    "### Extend PageRank with Teleport "
   ]
  },
  {
   "cell_type": "code",
   "execution_count": 36,
   "metadata": {},
   "outputs": [
    {
     "name": "stdout",
     "output_type": "stream",
     "text": [
      "[7.64294889e-07 6.27915346e-07 1.07603859e-06 ... 0.00000000e+00\n",
      " 8.55659436e-07 1.06945788e-06]\n"
     ]
    }
   ],
   "source": [
    "def power_iteration_tele(M, S, tol):\n",
    "    N = M.shape[0]\n",
    "    r = np.ones(N) / N\n",
    "    start = time.time()\n",
    "    iteration = 0\n",
    "    while True:\n",
    "        iteration += 1\n",
    "        # Step 1 : Calculate the r ranks of current iteration\n",
    "        r_new = S * (M @ r)\n",
    "        # Step 2 : update beta\n",
    "        S = np.sum(r_new)\n",
    "        # Step 3 : Update r_new with teleport\n",
    "        r_new = r_new + np.full(N, (1 - S) / N)\n",
    "        if np.linalg.norm(r_new - r, 1) < tol:\n",
    "            break\n",
    "        r = r_new\n",
    "    end = time.time()\n",
    "    elap = end - start\n",
    "    return r, iteration, elap\n",
    "\n",
    "\n",
    "# beta and tolerance\n",
    "b = 0.9\n",
    "tol = 0.02\n",
    "# Execute\n",
    "M = read_file(file_path, N)\n",
    "v_t, iteration_t, elap_t = power_iteration_tele(M, b, tol)\n",
    "print(r)\n"
   ]
  },
  {
   "cell_type": "markdown",
   "metadata": {},
   "source": [
    "### Run Power Iteration with Teleport"
   ]
  },
  {
   "cell_type": "code",
   "execution_count": 37,
   "metadata": {},
   "outputs": [
    {
     "name": "stdout",
     "output_type": "stream",
     "text": [
      "Time required : 115.52 mili seconds\n",
      "Iterations required: 9 times\n",
      "Top-10 ranked nodes and their scores:\n",
      "Node ID: 700787, Score: 0.000001\n",
      "Node ID: 523196, Score: 0.000001\n",
      "Node ID: 619761, Score: 0.000001\n",
      "Node ID: 796071, Score: 0.000001\n",
      "Node ID: 271708, Score: 0.000001\n",
      "Node ID: 796069, Score: 0.000001\n",
      "Node ID: 619790, Score: 0.000001\n",
      "Node ID: 619803, Score: 0.000001\n",
      "Node ID: 477234, Score: 0.000001\n",
      "Node ID: 174863, Score: 0.000001\n"
     ]
    }
   ],
   "source": [
    "# Find the top-10 ranked nodes from result in 3A\n",
    "top_nodes_t = np.argsort(-v_t)[:10]\n",
    "sc_t = r[top_nodes_t]\n",
    "\n",
    "elap_tms = elap_t * 1000\n",
    "print(f\"Time required : {elap_tms:.2f} mili seconds\")\n",
    "print(f\"Iterations required: {iteration_t} times\")\n",
    "\n",
    "print(\"Top-10 ranked nodes and their scores:\")\n",
    "for i, node in enumerate(top_nodes_t):\n",
    "    print(f\"Node ID: {node}, Score: {sc_t[i]:.6f}\")"
   ]
  },
  {
   "cell_type": "markdown",
   "metadata": {},
   "source": [
    "### Vary the teleport probability \n",
    "β with numbers in the set: {1, 0.9, 0.8, 0.7, 0.6}"
   ]
  },
  {
   "cell_type": "code",
   "execution_count": 38,
   "metadata": {},
   "outputs": [
    {
     "name": "stdout",
     "output_type": "stream",
     "text": [
      "For beta = 1, iteration required is 10 times and takes 127.67 mili seconds\n",
      "For beta = 0.9, iteration required is 9 times and takes 111.60 mili seconds\n",
      "For beta = 0.8, iteration required is 8 times and takes 99.63 mili seconds\n",
      "For beta = 0.7, iteration required is 7 times and takes 89.81 mili seconds\n",
      "For beta = 0.6, iteration required is 6 times and takes 79.55 mili seconds\n"
     ]
    }
   ],
   "source": [
    "beta = [1, 0.9, 0.8, 0.7, 0.6]\n",
    "tol = 0.02\n",
    "\n",
    "for b in beta:\n",
    "    M = read_file(file_path, N)\n",
    "    r, iteration_t, elap_t = power_iteration_tele(M, b, tol)\n",
    "    elap_tms = elap_t * 1000\n",
    "    print(f\"For beta = {b}, iteration required is {iteration_t} times and takes {elap_tms:.2f} mili seconds\")"
   ]
  },
  {
   "cell_type": "markdown",
   "metadata": {},
   "source": [
    "#### Number of iteration for different beta\n",
    "\n",
    "Output above show that takes a smaller teleportation factor (β) is used, lesser iterations for the PageRank algorithm to converge in power iteration. This happens as a result of a smaller β increasing the percentage of rank that is evenly distributed throughout all pages. Consequently, the rank distribution improves in balance and becomes less dependent on the link matrix's structure.\n",
    "That means even in cases where the link structure is complicated or has problems, like dead ends, the uniform distribution makes sure that rank is distributed more uniformly right from the beginning. Since the rank is neither imprisoned or unduly concentrated in any one page, this uniform distribution aids in the algorithm's faster convergence. As a result, the lesser itteration is needed and running time tend to faster especially when β = 0.8 , 0.7 and 0.6."
   ]
  }
 ],
 "metadata": {
  "kernelspec": {
   "display_name": "Python 3 (ipykernel)",
   "language": "python",
   "name": "python3"
  },
  "language_info": {
   "codemirror_mode": {
    "name": "ipython",
    "version": 3
   },
   "file_extension": ".py",
   "mimetype": "text/x-python",
   "name": "python",
   "nbconvert_exporter": "python",
   "pygments_lexer": "ipython3",
   "version": "3.12.4"
  }
 },
 "nbformat": 4,
 "nbformat_minor": 4
}
