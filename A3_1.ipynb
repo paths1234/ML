{
 "cells": [
  {
   "cell_type": "code",
   "execution_count": 1,
   "metadata": {},
   "outputs": [],
   "source": [
    "import csv\n",
    "import time\n",
    "import random\n",
    "import numpy as np\n",
    "import pandas as pd\n",
    "import matplotlib.pyplot as plot\n",
    "from collections import defaultdict"
   ]
  },
  {
   "cell_type": "markdown",
   "metadata": {},
   "source": [
    "## 1. Construct LSH Hash Tables"
   ]
  },
  {
   "cell_type": "markdown",
   "metadata": {},
   "source": [
    "### A. Report the number of users (|U|) and the number of features (n)"
   ]
  },
  {
   "cell_type": "code",
   "execution_count": 2,
   "metadata": {},
   "outputs": [
    {
     "name": "stdout",
     "output_type": "stream",
     "text": [
      "Number of users = 2574\n",
      "Number of Features = 7855\n"
     ]
    }
   ],
   "source": [
    "users = {}\n",
    "with open('bitvector_users.csv', 'r') as file:\n",
    "    records = csv.reader(file, delimiter='\\t')\n",
    "    for record in records:\n",
    "        user_id = int(record[0])\n",
    "        bitvector = [int(bit) for bit in record[1:]]\n",
    "        users[user_id] = bitvector\n",
    "\n",
    "n_user = len(users)\n",
    "n_feat = len(users[0])\n",
    "print(f\"Number of users = {n_user}\")\n",
    "print(f\"Number of Features = {n_feat}\")"
   ]
  },
  {
   "cell_type": "markdown",
   "metadata": {},
   "source": [
    "### B. Construct a family of MinHash functions in the LSH family\n",
    "Construct a family of MinHash functions in the LSH family. You can choose a prime number, denoted as p, and coefficients 0 < a < p,0 ≤ b < p. Let the tunable hash size k, and report the family of MinHash functions you have generated with k ∈ {1, 2, 3, 4}, respectively."
   ]
  },
  {
   "cell_type": "code",
   "execution_count": 3,
   "metadata": {},
   "outputs": [
    {
     "name": "stdout",
     "output_type": "stream",
     "text": [
      "MinHash functions for k = 1:\n",
      "h(x) = (867536309x + 817660058) % 2147483647\n",
      "\n",
      "MinHash functions for k = 2:\n",
      "h(x) = (867536309x + 817660058) % 2147483647\n",
      "h(x) = (429658752x + 1287285677) % 2147483647\n",
      "\n",
      "MinHash functions for k = 3:\n",
      "h(x) = (867536309x + 817660058) % 2147483647\n",
      "h(x) = (429658752x + 1287285677) % 2147483647\n",
      "h(x) = (383975071x + 494485440) % 2147483647\n",
      "\n",
      "MinHash functions for k = 4:\n",
      "h(x) = (867536309x + 817660058) % 2147483647\n",
      "h(x) = (429658752x + 1287285677) % 2147483647\n",
      "h(x) = (383975071x + 494485440) % 2147483647\n",
      "h(x) = (533502200x + 286140160) % 2147483647\n",
      "\n"
     ]
    }
   ],
   "source": [
    " # Define a prime number p\n",
    "p = 2147483647 # Mersenne prime number\n",
    "\n",
    "# Function to generate MinHash functions\n",
    "def Minhash(k, p, seed):\n",
    "    minhash_functions = []\n",
    "    if seed is not None:\n",
    "        random.seed(seed)\n",
    "    for _ in range(k):\n",
    "        a = random.randint(1, p)\n",
    "        b = random.randint(0, p-1)\n",
    "        minhash_functions.append((a, b))\n",
    "    return minhash_functions\n",
    "\n",
    "# Generate MinHash functions for each k\n",
    "minhash_families = {}\n",
    "K = [1, 2, 3, 4]\n",
    "seed = 99\n",
    "for k in K:\n",
    "    minhash_families[k] = Minhash(k, p, seed)\n",
    "\n",
    "# Print the generated MinHash functions\n",
    "for k, functions in minhash_families.items():\n",
    "    print(f\"MinHash functions for k = {k}:\")\n",
    "    for a, b in functions:\n",
    "        print(f\"h(x) = ({a}x + {b}) % {p}\")\n",
    "    print()"
   ]
  },
  {
   "cell_type": "markdown",
   "metadata": {},
   "source": [
    "### C. Construct one (L = 1) LSH hash table using MinHash functions\n",
    "Construct one (L = 1) LSH hash table using MinHash functions with bucket size (m = 3000) with k = 2. Report all users collided with the user with ID = 2186 in the constructed hash table and their corresponding Jaccard similarity."
   ]
  },
  {
   "cell_type": "code",
   "execution_count": 5,
   "metadata": {},
   "outputs": [
    {
     "name": "stdout",
     "output_type": "stream",
     "text": [
      "Users collided with user 2186:\n",
      "User ID: 271, Jaccard Similarity: 0.0929\n",
      "User ID: 286, Jaccard Similarity: 0.0805\n",
      "User ID: 560, Jaccard Similarity: 0.1049\n",
      "User ID: 1283, Jaccard Similarity: 0.0633\n",
      "User ID: 1477, Jaccard Similarity: 0.0551\n",
      "User ID: 1701, Jaccard Similarity: 0.0119\n",
      "User ID: 2324, Jaccard Similarity: 0.7374\n"
     ]
    }
   ],
   "source": [
    "k = 2\n",
    "seed = 42\n",
    "p = 2147483647 # Mersenne prime number\n",
    "users = pd.DataFrame(users)\n",
    "minhash_functions = Minhash(k, p, seed)\n",
    "\n",
    "def Minhash_sign(v, minhash_functions, p, n):\n",
    "    signature = []\n",
    "    for a, b in minhash_functions:\n",
    "        minhash_value = float('inf')\n",
    "        for key, val in v.items():\n",
    "            if val == 1:\n",
    "                hash_value = ((a * key + b) % p) % n\n",
    "                if hash_value < minhash_value:\n",
    "                    minhash_value = hash_value\n",
    "        signature.append(minhash_value)\n",
    "    return tuple(signature)\n",
    "\n",
    "# Create LSH hash table\n",
    "m = 3000\n",
    "user_target = 2186\n",
    "lsh_table = defaultdict(list)\n",
    "\n",
    "for user in users.keys():\n",
    "    signature = Minhash_sign(users[user], minhash_functions, p, n_feat)\n",
    "    bucket = (hash(signature) % p) % m\n",
    "    lsh_table[bucket].append(user)\n",
    "    if user == user_target:\n",
    "        buck_target = bucket\n",
    "\n",
    "collided_users = lsh_table[buck_target]\n",
    "\n",
    "# Function to compute Jaccard similarity\n",
    "def jac_sim(v1, v2):\n",
    "    intersection = sum([a == 1 and b == 1 for a, b in zip(v1, v2)])\n",
    "    union = sum([a == 1 or b == 1 for a, b in zip(v1, v2)])\n",
    "    return intersection / union if union != 0 else 0\n",
    "\n",
    "# Report collided users and their Jaccard similarity\n",
    "print(f\"Users collided with user {user_target}:\")\n",
    "for user_id in collided_users:\n",
    "    if user_id != user_target:\n",
    "        similarity = jac_sim(users[user_target], users[user_id])\n",
    "        print(f\"User ID: {user_id}, Jaccard Similarity: {similarity:.4f}\")\n"
   ]
  },
  {
   "cell_type": "markdown",
   "metadata": {},
   "source": [
    "### D. Construct L = 10 LSH hash tables using MinHash functions with bucket size (m = 3000) and k = 2."
   ]
  },
  {
   "cell_type": "code",
   "execution_count": 6,
   "metadata": {},
   "outputs": [
    {
     "name": "stdout",
     "output_type": "stream",
     "text": [
      "Users collided with user 2186:\n",
      "User ID: 1488, Jaccard Similarity: 0.0601\n",
      "User ID: 148, Jaccard Similarity: 0.0071\n",
      "User ID: 2324, Jaccard Similarity: 0.7374\n",
      "User ID: 1302, Jaccard Similarity: 0.0201\n",
      "User ID: 2295, Jaccard Similarity: 0.0274\n",
      "User ID: 2488, Jaccard Similarity: 0.0676\n"
     ]
    }
   ],
   "source": [
    "k = 2\n",
    "seed = 604\n",
    "p = 100003\n",
    "#p = 2147483647 # Mersenne prime number\n",
    "users = pd.DataFrame(users)\n",
    "minhash_functions = Minhash(k, p, seed)\n",
    "\n",
    "\n",
    "def Minhash_sign(v, minhash_functions, p, n):\n",
    "    signature = []\n",
    "    for a, b in minhash_functions:\n",
    "        minhash_value = float('inf')\n",
    "        for key, val in v.items():\n",
    "            if val == 1:\n",
    "                hash_value = ((a * key + b) % p) % n\n",
    "                if hash_value < minhash_value:\n",
    "                    minhash_value = hash_value\n",
    "        signature.append(minhash_value)\n",
    "    return tuple(signature)\n",
    "\n",
    "m = 3000\n",
    "bands = 10\n",
    "# user in Q\n",
    "Q = [2186]\n",
    "# initialize lsh table\n",
    "all_lsh_tables = {}\n",
    "buck_target = {}\n",
    "buck_contain = {}\n",
    "collided_users = defaultdict(set)\n",
    "\n",
    "for b in range(bands):\n",
    "    # Create LSH hash table\n",
    "    lsh_table = defaultdict(list)\n",
    "    for user in users.keys():\n",
    "        signature = Minhash_sign(users[user], minhash_functions, p, n_feat)\n",
    "        bucket = (hash(signature) % p) % m\n",
    "        lsh_table[bucket].append(user)\n",
    "    all_lsh_tables[b] = lsh_table\n",
    "\n",
    "for b in all_lsh_tables:\n",
    "    for user_target in Q:\n",
    "        sign_target = Minhash_sign(users[user_target], minhash_functions, p, n_feat)\n",
    "        buck_target = (hash(sign_target) % p) % m\n",
    "        buck_contain = lsh_table[buck_target]\n",
    "        collided_users[user_target].update(buck_contain)\n",
    "\n",
    "# Function to compute Jaccard similarity\n",
    "def jac_sim(v1, v2):\n",
    "    intersection = sum([a == 1 and b == 1 for a, b in zip(v1, v2)])\n",
    "    union = sum([a == 1 or b == 1 for a, b in zip(v1, v2)])\n",
    "    return intersection / union if union != 0 else 0\n",
    "\n",
    "for user_q in collided_users:\n",
    "     print(f\"Users collided with user {user_q}:\")\n",
    "     for user in collided_users[user_q]:\n",
    "          if user != user_q:\n",
    "              similarity = jac_sim(users[user_q], users[user])\n",
    "              print(f\"User ID: {user}, Jaccard Similarity: {similarity:.4f}\")   "
   ]
  },
  {
   "cell_type": "markdown",
   "metadata": {},
   "source": [
    "## 2. Nearest Neighbor Search"
   ]
  },
  {
   "cell_type": "markdown",
   "metadata": {},
   "source": [
    "### A. Report the top-5 users with the highest Jaccard similarities as the answer for user Q = {295, 1053, 1080, 2186}"
   ]
  },
  {
   "cell_type": "code",
   "execution_count": 7,
   "metadata": {},
   "outputs": [
    {
     "name": "stdout",
     "output_type": "stream",
     "text": [
      "Query: 295, Top-5:[(793, 0.1339), (1648, 0.1277), (1043, 0.0979), (646, 0.0645), (2377, 0.0609)]\n",
      "Query: 1053, Top-5:[(707, 0.0279), (108, 0.0261), (798, 0.0260), (1590, 0.0245), (2430, 0.0223)]\n",
      "Query: 1080, Top-5:[(2523, 0.1124), (1078, 0.0775), (2120, 0.0635), (231, 0.0617), (413, 0.0578)]\n",
      "Query: 2186, Top-5:[(2324, 0.7374), (2488, 0.0676), (1488, 0.0601), (2295, 0.0274), (1302, 0.0201)]\n"
     ]
    }
   ],
   "source": [
    "Q = [295, 1053, 1080, 2186]\n",
    "buck_target = {}\n",
    "buck_contain = {}\n",
    "collided_users = defaultdict(set)\n",
    "\n",
    "for b in all_lsh_tables:\n",
    "    for user_target in Q:\n",
    "        sign_target = Minhash_sign(users[user_target], minhash_functions, p, n_feat)\n",
    "        buck_target = (hash(sign_target) % p) % m\n",
    "        buck_contain = all_lsh_tables[b][buck_target]\n",
    "        collided_users[user_target].update(buck_contain)\n",
    "\n",
    "# Estimate Top-5 jaccard simmilarity\n",
    "for user_q in collided_users:\n",
    "    candidates = collided_users[user_q].copy()\n",
    "    candidates.discard(user_q)\n",
    "    similarities = []\n",
    "    for user in candidates:\n",
    "        sim = jac_sim(users[user_q], users[user])\n",
    "        similarities.append((user, sim))\n",
    "    \n",
    "    # Sort \n",
    "    top_k = sorted(similarities, key=lambda x: x[1], reverse=True)[:5]\n",
    "    \n",
    "    print(f\"Query: {user_q}, Top-5:[\", end='')\n",
    "    print(', '.join([f\"({u}, {sim:.4f})\" for u, sim in top_k]), end='')\n",
    "    print(\"]\")"
   ]
  },
  {
   "cell_type": "markdown",
   "metadata": {},
   "source": [
    "### B. Compute the true top-5 similar users from the dataset for user Q = {295, 1053, 1080, 2186}"
   ]
  },
  {
   "cell_type": "code",
   "execution_count": 66,
   "metadata": {},
   "outputs": [
    {
     "name": "stdout",
     "output_type": "stream",
     "text": [
      "Query: 295, Top-5:[(374, 0.4274), (2246, 0.2086), (1223, 0.1986), (2421, 0.1634), (730, 0.1627)]\n",
      "Query: 1053, Top-5:[(374, 0.4274), (1345, 0.3165), (2246, 0.2086), (1223, 0.1986), (2421, 0.1634)]\n",
      "Query: 1080, Top-5:[(2225, 0.5319), (374, 0.4274), (1345, 0.3165), (2246, 0.2086), (1223, 0.1986)]\n",
      "Query: 2186, Top-5:[(2324, 0.7374), (2225, 0.5319), (374, 0.4274), (1345, 0.3165), (2246, 0.2086)]\n"
     ]
    }
   ],
   "source": [
    "Q = [295, 1053, 1080, 2186]\n",
    "similarities = []\n",
    "for user_q in Q:\n",
    "    for user in users.keys():\n",
    "        if user_q != user:\n",
    "            sim = jac_sim(users[user_q], users[user])\n",
    "            similarities.append((user, sim))\n",
    "    \n",
    "    # Sort \n",
    "    top_k = sorted(similarities, key=lambda x: x[1], reverse=True)[:5]\n",
    "    \n",
    "    print(f\"Query: {user_q}, Top-5:[\", end='')\n",
    "    print(', '.join([f\"({u}, {sim:.4f})\" for u, sim in top_k]), end='')\n",
    "    print(\"]\")"
   ]
  },
  {
   "cell_type": "markdown",
   "metadata": {},
   "source": [
    "## 3. Search Quality and Efficiency"
   ]
  },
  {
   "cell_type": "markdown",
   "metadata": {},
   "source": [
    "### A. Investigate the impact of the hash size k ∈ {1,2,3,4} on the quality of the top-k nearest neighbor search"
   ]
  },
  {
   "cell_type": "code",
   "execution_count": 8,
   "metadata": {},
   "outputs": [
    {
     "data": {
      "image/png": "[encoded data removed]",
      "text/plain": [
       "<Figure size 640x480 with 1 Axes>"
      ]
     },
     "metadata": {},
     "output_type": "display_data"
    }
   ],
   "source": [
    "p = 100003\n",
    "m = 3000\n",
    "seed = 604\n",
    "bands = 10\n",
    "\n",
    "cand_k = [1, 2, 3, 4]\n",
    "precisions = []\n",
    "for k in cand_k:\n",
    "    minhash_functions = Minhash(k, p, seed)\n",
    "    all_lsh_tables = {}\n",
    "\n",
    "    for b in range(bands):\n",
    "        # Create LSH hash table\n",
    "        lsh_table = defaultdict(list)\n",
    "        for user in users.keys():\n",
    "            signature = Minhash_sign(users[user], minhash_functions, p, n_feat)\n",
    "            bucket = (hash(signature) % p) % m\n",
    "            lsh_table[bucket].append(user)\n",
    "        all_lsh_tables[b] = lsh_table\n",
    "\n",
    "    Q = range(1001, 2000)\n",
    "    buck_target = {}\n",
    "    buck_contain = {}\n",
    "    collided_users = defaultdict(set)\n",
    "    gt = defaultdict(list)\n",
    "    pred = defaultdict(list)\n",
    "\n",
    "    for b in all_lsh_tables:\n",
    "        for user_target in Q:\n",
    "            sign_target = Minhash_sign(users[user_target], minhash_functions, p, n_feat)\n",
    "            buck_target = (hash(sign_target) % p) % m\n",
    "            buck_contain = all_lsh_tables[b][buck_target]\n",
    "            collided_users[user_target].update(buck_contain)\n",
    "\n",
    "    precision_sum = 0\n",
    "    # Estimate Top-5 jaccard simmilarity\n",
    "    for user_q in collided_users:\n",
    "        candidates = collided_users[user_q].copy()\n",
    "        candidates.discard(user_q)\n",
    "        sim_truth = []\n",
    "        sim_pred = []\n",
    "        # estimate similarities\n",
    "        for user in users.keys():\n",
    "            if user_target != user:\n",
    "                sim = jac_sim(users[user_q], users[user])\n",
    "                sim_truth.append((user, sim))\n",
    "                if user in candidates:\n",
    "                    sim_pred.append((user, sim))\n",
    "        gt[user_q] = sorted(sim_truth, key=lambda x: x[1], reverse=True)[:5]\n",
    "        pred[user_q] = sorted(sim_pred, key=lambda x: x[1], reverse=True)[:5]\n",
    "        gt[user_q] = (x for x, y in gt[user_q])\n",
    "        pred[user_q] = (x for x, y in gt[user_q])\n",
    "\n",
    "        # Calculate Precision@5\n",
    "        R_q = set(gt[user_q])\n",
    "        R_hat_q = set(pred[user_q])\n",
    "        if len(R_hat_q) > 0:\n",
    "            precision_sum += len(R_q & R_hat_q) / len(R_hat_q)\n",
    "\n",
    "    precision_at_5 = precision_sum / len(Q)\n",
    "    precisions.append(precision_at_5)\n",
    "\n",
    "# Plotting the results\n",
    "plot.plot(cand_k, precisions, marker='o')\n",
    "plot.xlabel('Hash Size (k)')\n",
    "plot.ylabel('Precision@5')\n",
    "plot.title('Precision@5 vs Hash Size')\n",
    "plot.grid(True)\n",
    "plot.show()\n",
    "\n"
   ]
  },
  {
   "cell_type": "code",
   "execution_count": 72,
   "metadata": {},
   "outputs": [
    {
     "data": {
      "image/png": "[encoded data removed]",
      "text/plain": [
       "<Figure size 640x480 with 1 Axes>"
      ]
     },
     "metadata": {},
     "output_type": "display_data"
    }
   ],
   "source": [
    "\n",
    "def get_ground_truth(users, user_target):\n",
    "    sim_truth = []\n",
    "    # estimate similarities\n",
    "    for user in users.keys():\n",
    "            if user_target != user:\n",
    "                sim = jac_sim(users[user_target], users[user])\n",
    "                sim_truth.append((user, sim))\n",
    "    gt = sorted(sim_truth, key=lambda x: x[1], reverse=True)[:5]\n",
    "    return gt  \n",
    "\n",
    "p = 100003\n",
    "m = 3000\n",
    "seed = 604\n",
    "bands = 10\n",
    "\n",
    "cand_k = [1, 2, 3, 4]\n",
    "precisions = []\n",
    "\n",
    "for k in cand_k:\n",
    "    minhash_functions = Minhash(k, p, seed)\n",
    "    all_lsh_tables = {}\n",
    "\n",
    "    for b in range(bands):\n",
    "        # Create LSH hash table\n",
    "        lsh_table = defaultdict(list)\n",
    "        for user in users.keys():\n",
    "            signature = Minhash_sign(users[user], minhash_functions, p, n_feat)\n",
    "            bucket = (hash(signature) % p) % m\n",
    "            lsh_table[bucket].append(user)\n",
    "        all_lsh_tables[b] = lsh_table\n",
    "\n",
    "    Q = range(1001, 2000)\n",
    "    collided_users = defaultdict(set)\n",
    "    ground_truth = defaultdict(list)\n",
    "    pred = defaultdict(list)\n",
    "\n",
    "    for b in all_lsh_tables:\n",
    "        for user_target in Q:\n",
    "            sign_target = Minhash_sign(users[user_target], minhash_functions, p, n_feat)\n",
    "            buck_target = (hash(sign_target) % p) % m\n",
    "            buck_contain = all_lsh_tables[b][buck_target]\n",
    "            collided_users[user_target].update(buck_contain)\n",
    "\n",
    "    # Estimate Top-5 Jaccard similarity\n",
    "    for user_q in collided_users:\n",
    "        candidates = collided_users[user_q].copy()\n",
    "        candidates.discard(user_q)\n",
    "        sim_pred = []\n",
    "\n",
    "        for candidate in candidates:\n",
    "            sim = jac_sim(users[user_q], users[candidate])\n",
    "            sim_pred.append((candidate, sim))\n",
    "\n",
    "        # Sort candidates by similarity and take top-5\n",
    "        sim_pred.sort(key=lambda x: x, reverse=True)\n",
    "        pred[user_q] = [x for x in sim_pred[:5]]\n",
    "\n",
    "    # Calculate Precision@5\n",
    "    precision_sum = 0\n",
    "    for user_q in Q:\n",
    "        R_q = set(ground_truth[user_q])\n",
    "        R_hat_q = set(pred[user_q])\n",
    "        if len(R_hat_q) > 0:\n",
    "            precision_sum += len(R_q & R_hat_q) / len(R_hat_q)\n",
    "\n",
    "    precision_at_5 = precision_sum / len(Q)\n",
    "    precisions.append(precision_at_5)\n",
    "\n",
    "# Plotting the results\n",
    "plot.plot(cand_k, precisions, marker='o')\n",
    "plot.xlabel('Hash Size (k)')\n",
    "plot.ylabel('Precision@5')\n",
    "plot.title('Precision@5 vs Hash Size')\n",
    "plot.grid(True)\n",
    "plot.show()\n"
   ]
  },
  {
   "cell_type": "markdown",
   "metadata": {},
   "source": [
    "### B. Compare the query time in Question 2(a) and Question 2(b) on average across the query set Q in milliseconds and comment on their differences"
   ]
  },
  {
   "cell_type": "code",
   "execution_count": 77,
   "metadata": {},
   "outputs": [
    {
     "ename": "AttributeError",
     "evalue": "'list' object has no attribute 'apppend'",
     "output_type": "error",
     "traceback": [
      "\u001b[0;31m---------------------------------------------------------------------------\u001b[0m",
      "\u001b[0;31mAttributeError\u001b[0m                            Traceback (most recent call last)",
      "Cell \u001b[0;32mIn[77], line 40\u001b[0m\n\u001b[1;32m     38\u001b[0m     end1 \u001b[38;5;241m=\u001b[39m time\u001b[38;5;241m.\u001b[39mtime()\n\u001b[1;32m     39\u001b[0m     elap1 \u001b[38;5;241m=\u001b[39m (end1 \u001b[38;5;241m-\u001b[39m start1)\u001b[38;5;241m*\u001b[39m\u001b[38;5;241m1000\u001b[39m\n\u001b[0;32m---> 40\u001b[0m     \u001b[43melaps_2a\u001b[49m\u001b[38;5;241;43m.\u001b[39;49m\u001b[43mapppend\u001b[49m(elap1)\n\u001b[1;32m     42\u001b[0m similarities \u001b[38;5;241m=\u001b[39m []\n\u001b[1;32m     43\u001b[0m \u001b[38;5;28;01mfor\u001b[39;00m user_q \u001b[38;5;129;01min\u001b[39;00m Q:\n",
      "\u001b[0;31mAttributeError\u001b[0m: 'list' object has no attribute 'apppend'"
     ]
    }
   ],
   "source": [
    "Q = range(1001, 2000)\n",
    "buck_target = {}\n",
    "buck_contain = {}\n",
    "collided_users = defaultdict(set)\n",
    "elaps_2a = []\n",
    "elaps_2b = []\n",
    "\n",
    "for b in range(bands):\n",
    "    # Create LSH hash table\n",
    "    lsh_table = defaultdict(list)\n",
    "    for user in users.keys():\n",
    "        signature = Minhash_sign(users[user], minhash_functions, p, n_feat)\n",
    "        bucket = (hash(signature) % p) % m\n",
    "        lsh_table[bucket].append(user)\n",
    "    all_lsh_tables[b] = lsh_table\n",
    "\n",
    "for b in all_lsh_tables:\n",
    "    \n",
    "    for user_target in Q:\n",
    "        sign_target = Minhash_sign(users[user_target], minhash_functions, p, n_feat)\n",
    "        buck_target = (hash(sign_target) % p) % m\n",
    "        buck_contain = all_lsh_tables[b][buck_target]\n",
    "        collided_users[user_target].update(buck_contain)\n",
    "\n",
    "# Estimate Top-5 jaccard simmilarity\n",
    "for user_q in collided_users:\n",
    "    start1 = time.time()\n",
    "    candidates = collided_users[user_q].copy()\n",
    "    candidates.discard(user_q)\n",
    "    similarities = []\n",
    "    for user in candidates:\n",
    "        sim = jac_sim(users[user_q], users[user])\n",
    "        similarities.append((user, sim))\n",
    "    \n",
    "    # Sort \n",
    "    top_k = sorted(similarities, key=lambda x: x[1], reverse=True)[:5]\n",
    "    \n",
    "    end1 = time.time()\n",
    "    elap1 = (end1 - start1)*1000\n",
    "    elaps_2a.apppend(elap1)\n",
    "\n",
    "similarities = []\n",
    "for user_q in Q:\n",
    "    start2 = time.time()\n",
    "    for user in users.keys():\n",
    "        if user_q != user:\n",
    "            sim = jac_sim(users[user_q], users[user])\n",
    "            similarities.append((user, sim))\n",
    "    \n",
    "    # Sort \n",
    "    top_k = sorted(similarities, key=lambda x: x[1], reverse=True)[:5]\n",
    "    end2 =time.time()\n",
    "    elap2 = (end2 - start2)*1000\n",
    "    elaps_2b.apppend(elap2)\n",
    "\n",
    "def average(arr):\n",
    "    if len(arr) == 0:\n",
    "        return 0\n",
    "    return sum(arr) / len(arr)\n",
    "print(f\"Average for 2a is = {average(elaps_2a)}\")\n",
    "print(f\"Average for 2b is = {average(elaps_2b)}\")"
   ]
  },
  {
   "cell_type": "markdown",
   "metadata": {},
   "source": []
  }
 ],
 "metadata": {
  "kernelspec": {
   "display_name": "Masiv_data",
   "language": "python",
   "name": "python3"
  },
  "language_info": {
   "codemirror_mode": {
    "name": "ipython",
    "version": 3
   },
   "file_extension": ".py",
   "mimetype": "text/x-python",
   "name": "python",
   "nbconvert_exporter": "python",
   "pygments_lexer": "ipython3",
   "version": "3.12.4"
  }
 },
 "nbformat": 4,
 "nbformat_minor": 2
}
